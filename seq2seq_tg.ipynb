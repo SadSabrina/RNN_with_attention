{
 "cells": [
  {
   "cell_type": "markdown",
   "metadata": {},
   "source": [
    "# Attention: Attention! \n",
    "*сказ про котов и карты активации, by [Data author](https://t.me/jdata_blog)*\n",
    "\n",
    "Этот ноутбук сопровождает пост [Attention: Attention!](https://teletype.in/@jdata_blog/B0T5Mn4DjF9). Присоединяйтесь к чтению и запускайте код =)"
   ]
  },
  {
   "cell_type": "code",
   "execution_count": 1,
   "metadata": {},
   "outputs": [],
   "source": [
    "from __future__ import unicode_literals, print_function, division\n",
    "import tqdm\n",
    "import matplotlib.pyplot as plt\n",
    "from PIL import Image\n",
    "import re\n",
    "import random\n",
    "from matplotlib import ticker\n",
    "\n",
    "import torch\n",
    "import torch.nn as nn\n",
    "from torch import optim\n",
    "import torch.nn.functional as F\n",
    "\n",
    "import numpy as np\n",
    "import pandas as pd\n",
    "from torch.utils.data import TensorDataset, DataLoader, RandomSampler"
   ]
  },
  {
   "cell_type": "markdown",
   "metadata": {},
   "source": [
    "## **Набор данных**\n",
    "\n",
    "Работа проведена с открытыми данными с ресурса [tatoeba.org](https://tatoeba.org/). \n",
    "\n",
    "Набор данных содержит два столбца:\n",
    "- `rus` — предложение на русском\n",
    "- `eng` — предложение на английском"
   ]
  },
  {
   "cell_type": "code",
   "execution_count": 2,
   "metadata": {},
   "outputs": [
    {
     "name": "stdout",
     "output_type": "stream",
     "text": [
      "<class 'pandas.core.frame.DataFrame'>\n",
      "RangeIndex: 730519 entries, 0 to 730518\n",
      "Data columns (total 2 columns):\n",
      " #   Column  Non-Null Count   Dtype \n",
      "---  ------  --------------   ----- \n",
      " 0   rus     730519 non-null  object\n",
      " 1   eng     730519 non-null  object\n",
      "dtypes: object(2)\n",
      "memory usage: 11.1+ MB\n"
     ]
    }
   ],
   "source": [
    "# Загрузим набор данных\n",
    "total_df = pd.read_csv('data/rus_eng.csv')\n",
    "total_df.info()"
   ]
  },
  {
   "cell_type": "markdown",
   "metadata": {},
   "source": [
    "Предобработаем датасет, уберем дубликаты и для ускорения обучения моделей возьмём только 100000 наблюдений. "
   ]
  },
  {
   "cell_type": "code",
   "execution_count": 3,
   "metadata": {},
   "outputs": [],
   "source": [
    "# Функция для предобработки строк датасета\n",
    "\n",
    "def normalizeString(s):\n",
    "    s = s.lower().strip() #приводим к нижнему регистру и обрезаем пробелы с краёв\n",
    "    s = re.sub(r\"[^\\w\\s?]\", \"\", s) # удаляем знаки препинания, кроме вопросительного\n",
    "    s = re.sub(r\"([?])\", r\" \\1\", s) # добавляем пробел перед вопросительным знаком\n",
    "    return s.strip() # снова обрезаем строку с краёв"
   ]
  },
  {
   "cell_type": "code",
   "execution_count": 4,
   "metadata": {},
   "outputs": [],
   "source": [
    "# Предобработка строк\n",
    "total_df['rus'] = total_df['rus'].apply(lambda x: normalizeString(x))\n",
    "total_df['eng'] = total_df['eng'].apply(lambda x: normalizeString(x))"
   ]
  },
  {
   "cell_type": "code",
   "execution_count": 5,
   "metadata": {},
   "outputs": [],
   "source": [
    "# Удаляем дубликаты\n",
    "total_df.drop_duplicates(inplace=True)"
   ]
  },
  {
   "cell_type": "markdown",
   "metadata": {},
   "source": [
    "Смотрим, что вышло. "
   ]
  },
  {
   "cell_type": "code",
   "execution_count": 6,
   "metadata": {},
   "outputs": [
    {
     "name": "stdout",
     "output_type": "stream",
     "text": [
      "<class 'pandas.core.frame.DataFrame'>\n",
      "Index: 724991 entries, 0 to 730518\n",
      "Data columns (total 2 columns):\n",
      " #   Column  Non-Null Count   Dtype \n",
      "---  ------  --------------   ----- \n",
      " 0   rus     724991 non-null  object\n",
      " 1   eng     724991 non-null  object\n",
      "dtypes: object(2)\n",
      "memory usage: 16.6+ MB\n"
     ]
    }
   ],
   "source": [
    "total_df.info()"
   ]
  },
  {
   "cell_type": "code",
   "execution_count": 7,
   "metadata": {},
   "outputs": [],
   "source": [
    "# Берем сэмпл данных\n",
    "df_sample = total_df.sample(100000, random_state=42)"
   ]
  },
  {
   "cell_type": "markdown",
   "metadata": {},
   "source": [
    "## Текст для модели — преобразование данных в \"читаемый\" сетью вид\n",
    "\n",
    "Чтобы использовать слова в качестве input'ов и target'ов,  необходима кодировка. Она релизована в виде словаря, ставящего в соответствие каждому слову число. Для этого написан класс `Lang`. \n",
    "\n",
    "`SOS` и `EOS` — токены старта (start) и концы (end) последовательности соответственно. \n"
   ]
  },
  {
   "cell_type": "code",
   "execution_count": 8,
   "metadata": {},
   "outputs": [],
   "source": [
    "SOS_token = 0\n",
    "EOS_token = 1\n",
    "\n",
    "class Lang:\n",
    "    def __init__(self):\n",
    "        self.word2index = {}\n",
    "        self.word2count = {}\n",
    "        self.index2word = {0: \"SOS\", 1: \"EOS\"}\n",
    "        self.n_words = 2  # Счетчик уникальных слов (начиная с 2, так как есть SOS и EOS)\n",
    "\n",
    "    def addSentences(self, sentences: pd.Series):\n",
    "        \"\"\"Добавляет все предложения из pandas Series.\"\"\"\n",
    "        sentences.apply(self.addSentence)\n",
    "\n",
    "    def addSentence(self, sentence):\n",
    "        \"\"\"Добавляет отдельное предложение в словарь.\"\"\"\n",
    "        for word in sentence.split(' '):\n",
    "            self.addWord(word)\n",
    "\n",
    "    def addWord(self, word):\n",
    "        \"\"\"Добавляет слово в словарь или обновляет счетчик, если слово уже существует.\"\"\"\n",
    "        if word not in self.word2index:\n",
    "            self.word2index[word] = self.n_words\n",
    "            self.word2count[word] = 1\n",
    "            self.index2word[self.n_words] = word\n",
    "            self.n_words += 1\n",
    "        else:\n",
    "            self.word2count[word] += 1"
   ]
  },
  {
   "cell_type": "code",
   "execution_count": 9,
   "metadata": {},
   "outputs": [],
   "source": [
    "# Извлечение релевантных столбцов\n",
    "\n",
    "firtst_lang = df_sample['rus']\n",
    "target_lang = df_sample['eng']\n",
    "\n",
    "# Создание из столбцов пар input-target\n",
    "pairs = list(zip(firtst_lang, target_lang))"
   ]
  },
  {
   "cell_type": "markdown",
   "metadata": {},
   "source": [
    "Чтобы ещё чуть-чуть ускорить эксперимент, данные отфильтрованы так, что взяты наблюдения, короче или равные 10 токенам. Это дало  возможность начать получать интересные результаты за 40 минут (Macbook M3 pro, cpu, mps не использовались, я только привыкаю к мабукам =)). "
   ]
  },
  {
   "cell_type": "code",
   "execution_count": 10,
   "metadata": {},
   "outputs": [
    {
     "name": "stdout",
     "output_type": "stream",
     "text": [
      "Отфильтровано до 89851  пар (pairs) последовательностей\n",
      "('что ты можешь рассказать мне о случившемся ?', 'what can you tell me about what happened ?')\n"
     ]
    }
   ],
   "source": [
    "MAX_LENGTH = 10\n",
    "\n",
    "def filterPair(p):\n",
    "    return len(p[0].split(' ')) < MAX_LENGTH and len(p[1].split(' ')) < MAX_LENGTH\n",
    "\n",
    "def filterPairs(pairs):\n",
    "    return [pair for pair in pairs if filterPair(pair)]\n",
    "\n",
    "# Вызовем фильтрацию\n",
    "pairs = filterPairs(pairs) \n",
    "\n",
    "print(\"Отфильтровано до %s  пар (pairs) последовательностей\" % len(pairs))\n",
    "print(random.choice(pairs))"
   ]
  },
  {
   "cell_type": "code",
   "execution_count": 11,
   "metadata": {},
   "outputs": [
    {
     "name": "stdout",
     "output_type": "stream",
     "text": [
      "Посчитанные слова в inputs и outputs:\n",
      "Input sentences содержат 31868 уникальных значений\n",
      " Output sentences содержат 13078 уникальных значений\n"
     ]
    }
   ],
   "source": [
    "# Инициализируем классы для хранения языков \n",
    "input_lang = Lang()\n",
    "second_lang = Lang()\n",
    "\n",
    "for pair in pairs:\n",
    "     input_lang.addSentence(pair[0])\n",
    "     second_lang.addSentence(pair[1])\n",
    "\n",
    "print(\"Посчитанные слова в inputs и outputs:\")\n",
    "print(f'Input sentences содержат {input_lang.n_words} уникальных значений\\n Output sentences содержат {second_lang.n_words} уникальных значений')"
   ]
  },
  {
   "cell_type": "markdown",
   "metadata": {},
   "source": [
    "Ну и ещё немного вспомогательных функций, чтобы получать тензоры из пар. "
   ]
  },
  {
   "cell_type": "code",
   "execution_count": 12,
   "metadata": {},
   "outputs": [],
   "source": [
    "def indexesFromSentence(lang, sentence):\n",
    "    return [lang.word2index[word] for word in sentence.split(' ')] # предложение в вектор индексов\n",
    "\n",
    "def tensorFromSentence(lang, sentence):\n",
    "    indexes = indexesFromSentence(lang, sentence) \n",
    "    indexes.append(EOS_token)\n",
    "    return torch.tensor(indexes, dtype=torch.long, device=device).view(1, -1)\n",
    "\n",
    "def tensorsFromPair(pair):\n",
    "    input_tensor = tensorFromSentence(input_lang, pair[0])\n",
    "    target_tensor = tensorFromSentence(second_lang, pair[1])\n",
    "    return (input_tensor, target_tensor)"
   ]
  },
  {
   "cell_type": "markdown",
   "metadata": {},
   "source": [
    "Формирование даталоадера. "
   ]
  },
  {
   "cell_type": "code",
   "execution_count": 13,
   "metadata": {},
   "outputs": [],
   "source": [
    "N = len(pairs)\n",
    "BATCH_SIZE = 200\n",
    "\n",
    "input_ids = np.zeros((N, MAX_LENGTH), dtype=np.int32) # заготовки для хранения наших входных indexes\n",
    "target_ids = np.zeros((N, MAX_LENGTH), dtype=np.int32) # заготовки для хранения наших целевых indexes\n",
    "\n",
    "for idx, (inp, tgt) in enumerate(pairs):\n",
    "    inp_ids = indexesFromSentence(input_lang, inp)\n",
    "    inp_ids.append(EOS_token)\n",
    "\n",
    "    tgt_ids = indexesFromSentence(second_lang, tgt)\n",
    "    tgt_ids.append(EOS_token)\n",
    "\n",
    "    input_ids[idx, :len(inp_ids)] = inp_ids \n",
    "    target_ids[idx, :len(tgt_ids)] = tgt_ids\n",
    "\n",
    "train_data = TensorDataset(torch.LongTensor(input_ids), torch.LongTensor(target_ids))\n",
    "\n",
    "train_sampler = RandomSampler(train_data)\n",
    "\n",
    "train_dataloader = DataLoader(train_data, sampler=train_sampler, batch_size=BATCH_SIZE)"
   ]
  },
  {
   "cell_type": "markdown",
   "metadata": {},
   "source": [
    "# Загрузка предобученных моделей, для получения различных карт внимания. \n",
    "## Attention — Bahdanau & Luong\n",
    "\n",
    "Подходов к вычислению внимания существует много, например Bahdanau-Attention, Luong-Attention, Self-attention и другие. Также, само внимание можно по разному улучшать и наделять информацией, через:\n",
    "- Обычное скалярное произведение: $e_i = \\{(s_i, h_0), ..., (s_i, h_n)\\} = [s_i h_j^T]_{j=0}^n$ — dot attention, aka Luong Attention\n",
    "- Мультипликативное внимание с матрицей весов $W$: $e_i = [s_iWh_j^T]_{j=0}^n$, где $W$ - обучаемая матрица весов (это получается обобщение скалярного произведения) - general attention, aka Luong Attention\n",
    "- Bahdanau attention (MLP): $e_{ij} = tanh(h_jW_1 + s_iW_2)v$, где $W_1, W_2$ - обучаемые матрицы весов, а $v$ - обучаемый вектор весов.\n",
    "\n",
    "Кроме того, во всех примерах выше:\n",
    "$(h_0, h_1, ..., h_n)$ - векторы скрытого состояния кодировщика\n",
    "$(s_0 = h_n, s_1, ..., s_m)$ - векторы скрытого состояния декодировщика\n",
    "\n",
    "Для эксперимента реализованы Bahdanau attention и Luong Attention, Luong Attention обобщаются способы: \n",
    "\n",
    "- dot attention: $s_i^Th_j$ — скалярно перемножаем скрытые слои энкодера и декодера\n",
    "- general attention: $s_i^TW_1h_j$ —  перемножаем скрытые слои энкодера и декодера с промежуточной матрицей весов между ними\n",
    "- concat attention: $v^Ttanh(W_1[s_i;h_j])$ — умножаем обучаемый вектор весов на тангенс от взвешенного векторного произведения скрытых слоёв энкодера и декодера (почти Bahdanau)\n",
    "\n",
    "Реализованные подходы к вниманию вы можете найти в файле `attentions.py`, а сами модели в файле `models.py`."
   ]
  },
  {
   "cell_type": "code",
   "execution_count": 14,
   "metadata": {},
   "outputs": [
    {
     "name": "stdout",
     "output_type": "stream",
     "text": [
      "Luong Attention with dot is used\n",
      "Luong Attention with general is used\n",
      "Luong Attention with concat is used\n",
      "Bahdanau Attention is used\n"
     ]
    }
   ],
   "source": [
    "from models import EncoderRNN, AttnDecoderRNN\n",
    "\n",
    "hidden_size = 128\n",
    "device = 'cpu'\n",
    "\n",
    "# LUONG DOT\n",
    "dot_encoder = EncoderRNN(input_lang.n_words, hidden_size).to(device)\n",
    "dot_decoder = AttnDecoderRNN(hidden_size, second_lang.n_words, method='dot').to(device)\n",
    "\n",
    "# LUONG GENERAL\n",
    "general_encoder = EncoderRNN(input_lang.n_words, hidden_size).to(device)\n",
    "general_decoder = AttnDecoderRNN(hidden_size, second_lang.n_words, method='general').to(device)\n",
    "\n",
    "# LUONG CONCAT\n",
    "concat_encoder = EncoderRNN(input_lang.n_words, hidden_size).to(device)\n",
    "concat_decoder = AttnDecoderRNN(hidden_size, second_lang.n_words, method='concat').to(device)\n",
    "\n",
    "# BAHDANAU\n",
    "bahdanau_encoder = EncoderRNN(input_lang.n_words, hidden_size).to(device)\n",
    "bahdanau_decoder = AttnDecoderRNN(hidden_size, second_lang.n_words).to(device)"
   ]
  },
  {
   "cell_type": "code",
   "execution_count": 15,
   "metadata": {},
   "outputs": [
    {
     "data": {
      "text/plain": [
       "AttnDecoderRNN(\n",
       "  (embedding): Embedding(13078, 128)\n",
       "  (attention): LuongAttention()\n",
       "  (gru): GRU(256, 128, batch_first=True)\n",
       "  (out): Linear(in_features=128, out_features=13078, bias=True)\n",
       "  (dropout): Dropout(p=0.1, inplace=False)\n",
       ")"
      ]
     },
     "execution_count": 15,
     "metadata": {},
     "output_type": "execute_result"
    }
   ],
   "source": [
    "# DOT ATTENTION\n",
    "dot_encoder.load_state_dict(torch.load('models/dot_encoder', weights_only=True))\n",
    "dot_encoder.eval()\n",
    "\n",
    "dot_decoder.load_state_dict(torch.load('models/dot_decoder', weights_only=True))\n",
    "dot_decoder.eval()"
   ]
  },
  {
   "cell_type": "code",
   "execution_count": 16,
   "metadata": {},
   "outputs": [
    {
     "data": {
      "text/plain": [
       "AttnDecoderRNN(\n",
       "  (embedding): Embedding(13078, 128)\n",
       "  (attention): LuongAttention(\n",
       "    (Wa): Linear(in_features=128, out_features=128, bias=True)\n",
       "  )\n",
       "  (gru): GRU(256, 128, batch_first=True)\n",
       "  (out): Linear(in_features=128, out_features=13078, bias=True)\n",
       "  (dropout): Dropout(p=0.1, inplace=False)\n",
       ")"
      ]
     },
     "execution_count": 16,
     "metadata": {},
     "output_type": "execute_result"
    }
   ],
   "source": [
    "# GENERAL\n",
    "general_encoder.load_state_dict(torch.load('models/general_encoder', weights_only=True))\n",
    "general_encoder.eval()\n",
    "\n",
    "general_decoder.load_state_dict(torch.load('models/general_decoder', weights_only=True))\n",
    "general_decoder.eval()"
   ]
  },
  {
   "cell_type": "code",
   "execution_count": 17,
   "metadata": {},
   "outputs": [
    {
     "data": {
      "text/plain": [
       "AttnDecoderRNN(\n",
       "  (embedding): Embedding(13078, 128)\n",
       "  (attention): LuongAttention(\n",
       "    (Wa): Linear(in_features=256, out_features=128, bias=True)\n",
       "  )\n",
       "  (gru): GRU(256, 128, batch_first=True)\n",
       "  (out): Linear(in_features=128, out_features=13078, bias=True)\n",
       "  (dropout): Dropout(p=0.1, inplace=False)\n",
       ")"
      ]
     },
     "execution_count": 17,
     "metadata": {},
     "output_type": "execute_result"
    }
   ],
   "source": [
    "# CONCAT\n",
    "concat_encoder.load_state_dict(torch.load('models/concat_encoder', weights_only=True))\n",
    "concat_encoder.eval()\n",
    "\n",
    "concat_decoder.load_state_dict(torch.load('models/concat_decoder', weights_only=True))\n",
    "concat_decoder.eval()"
   ]
  },
  {
   "cell_type": "code",
   "execution_count": 18,
   "metadata": {},
   "outputs": [
    {
     "data": {
      "text/plain": [
       "AttnDecoderRNN(\n",
       "  (embedding): Embedding(13078, 128)\n",
       "  (attention): BahdanauAttention(\n",
       "    (Wa): Linear(in_features=128, out_features=128, bias=True)\n",
       "    (Ua): Linear(in_features=128, out_features=128, bias=True)\n",
       "    (Va): Linear(in_features=128, out_features=1, bias=True)\n",
       "  )\n",
       "  (gru): GRU(256, 128, batch_first=True)\n",
       "  (out): Linear(in_features=128, out_features=13078, bias=True)\n",
       "  (dropout): Dropout(p=0.1, inplace=False)\n",
       ")"
      ]
     },
     "execution_count": 18,
     "metadata": {},
     "output_type": "execute_result"
    }
   ],
   "source": [
    "# BAHDANAU\n",
    "bahdanau_encoder.load_state_dict(torch.load('models/bahdanau_encoder', weights_only=True))\n",
    "bahdanau_encoder.eval()\n",
    "\n",
    "bahdanau_decoder.load_state_dict(torch.load('models/bahdanau_decoder', weights_only=True))\n",
    "bahdanau_decoder.eval()"
   ]
  },
  {
   "cell_type": "markdown",
   "metadata": {},
   "source": [
    "## Визуализация вниманий. \n",
    "Рассмотрим предложение \"я люблю кошек\", потому что я люблю кошек. И оценим, как с ними справятся модели, обученные в одинаковых условиях, но с разными механизмами внимания. "
   ]
  },
  {
   "cell_type": "code",
   "execution_count": 19,
   "metadata": {},
   "outputs": [],
   "source": [
    "encoders_decoders_pairs = [(dot_encoder, dot_decoder), (concat_encoder, concat_decoder), (general_encoder, general_decoder), (bahdanau_encoder, bahdanau_decoder)]\n",
    "keys = ['DOT', 'CONCAT', 'GENERAL', 'BAHDANAU']"
   ]
  },
  {
   "cell_type": "code",
   "execution_count": 20,
   "metadata": {},
   "outputs": [],
   "source": [
    "def evaluate(encoder, decoder, sentence, input_lang, output_lang):\n",
    "    with torch.no_grad():\n",
    "        input_tensor = tensorFromSentence(input_lang, sentence)\n",
    "\n",
    "        encoder_outputs, encoder_hidden = encoder(input_tensor)\n",
    "        decoder_outputs, decoder_hidden, decoder_attn = decoder(encoder_outputs, encoder_hidden)\n",
    "\n",
    "        _, topi = decoder_outputs.topk(1)\n",
    "        decoded_ids = topi.squeeze()\n",
    "\n",
    "        decoded_words = []\n",
    "        for idx in decoded_ids:\n",
    "            if idx.item() == EOS_token:\n",
    "                decoded_words.append('EOS')\n",
    "                break\n",
    "            decoded_words.append(output_lang.index2word[idx.item()])\n",
    "    return decoded_words, decoder_attn"
   ]
  },
  {
   "cell_type": "code",
   "execution_count": 21,
   "metadata": {},
   "outputs": [
    {
     "name": "stdout",
     "output_type": "stream",
     "text": [
      "input = я люблю кошек\n",
      "output = i like cats but cats dont smoke EOS\n",
      "input = я люблю кошек\n",
      "output = i love cats insects EOS\n"
     ]
    },
    {
     "name": "stderr",
     "output_type": "stream",
     "text": [
      "/var/folders/3j/4bpmrzsj6q3f151lfj_j6fp00000gn/T/ipykernel_63609/3946583591.py:8: UserWarning: set_ticklabels() should only be used with a fixed number of ticks, i.e. after set_ticks() or using a FixedLocator.\n",
      "  ax.set_xticklabels([''] + input_sentence.split(' ') +\n",
      "/var/folders/3j/4bpmrzsj6q3f151lfj_j6fp00000gn/T/ipykernel_63609/3946583591.py:10: UserWarning: set_ticklabels() should only be used with a fixed number of ticks, i.e. after set_ticks() or using a FixedLocator.\n",
      "  ax.set_yticklabels([''] + output_words)\n",
      "/var/folders/3j/4bpmrzsj6q3f151lfj_j6fp00000gn/T/ipykernel_63609/3946583591.py:8: UserWarning: set_ticklabels() should only be used with a fixed number of ticks, i.e. after set_ticks() or using a FixedLocator.\n",
      "  ax.set_xticklabels([''] + input_sentence.split(' ') +\n",
      "/var/folders/3j/4bpmrzsj6q3f151lfj_j6fp00000gn/T/ipykernel_63609/3946583591.py:10: UserWarning: set_ticklabels() should only be used with a fixed number of ticks, i.e. after set_ticks() or using a FixedLocator.\n",
      "  ax.set_yticklabels([''] + output_words)\n"
     ]
    },
    {
     "name": "stdout",
     "output_type": "stream",
     "text": [
      "input = я люблю кошек\n",
      "output = i like cats but i love cats EOS\n",
      "input = я люблю кошек\n",
      "output = i love cats cats EOS\n"
     ]
    },
    {
     "name": "stderr",
     "output_type": "stream",
     "text": [
      "/var/folders/3j/4bpmrzsj6q3f151lfj_j6fp00000gn/T/ipykernel_63609/3946583591.py:8: UserWarning: set_ticklabels() should only be used with a fixed number of ticks, i.e. after set_ticks() or using a FixedLocator.\n",
      "  ax.set_xticklabels([''] + input_sentence.split(' ') +\n",
      "/var/folders/3j/4bpmrzsj6q3f151lfj_j6fp00000gn/T/ipykernel_63609/3946583591.py:10: UserWarning: set_ticklabels() should only be used with a fixed number of ticks, i.e. after set_ticks() or using a FixedLocator.\n",
      "  ax.set_yticklabels([''] + output_words)\n",
      "/var/folders/3j/4bpmrzsj6q3f151lfj_j6fp00000gn/T/ipykernel_63609/3946583591.py:8: UserWarning: set_ticklabels() should only be used with a fixed number of ticks, i.e. after set_ticks() or using a FixedLocator.\n",
      "  ax.set_xticklabels([''] + input_sentence.split(' ') +\n",
      "/var/folders/3j/4bpmrzsj6q3f151lfj_j6fp00000gn/T/ipykernel_63609/3946583591.py:10: UserWarning: set_ticklabels() should only be used with a fixed number of ticks, i.e. after set_ticks() or using a FixedLocator.\n",
      "  ax.set_yticklabels([''] + output_words)\n"
     ]
    },
    {
     "data": {
      "image/png": "[encoded data removed]",
      "text/plain": [
       "<Figure size 2000x800 with 2 Axes>"
      ]
     },
     "metadata": {},
     "output_type": "display_data"
    },
    {
     "data": {
      "image/png": "[encoded data removed]",
      "text/plain": [
       "<Figure size 2000x800 with 2 Axes>"
      ]
     },
     "metadata": {},
     "output_type": "display_data"
    },
    {
     "data": {
      "image/png": "[encoded data removed]",
      "text/plain": [
       "<Figure size 2000x800 with 2 Axes>"
      ]
     },
     "metadata": {},
     "output_type": "display_data"
    },
    {
     "data": {
      "image/png": "[encoded data removed]",
      "text/plain": [
       "<Figure size 2000x800 with 2 Axes>"
      ]
     },
     "metadata": {},
     "output_type": "display_data"
    }
   ],
   "source": [
    "def showAttention(input_sentence, output_words, attentions):\n",
    "    fig = plt.figure(figsize=(20, 8))\n",
    "    ax = fig.add_subplot(111)\n",
    "    cax = ax.matshow(attentions.cpu().numpy(), cmap='bone')\n",
    "    fig.colorbar(cax)\n",
    "\n",
    "    # Set up axes\n",
    "    ax.set_xticklabels([''] + input_sentence.split(' ') +\n",
    "                       ['EOS'], rotation=90)\n",
    "    ax.set_yticklabels([''] + output_words)\n",
    "\n",
    "    # Show label at every tick\n",
    "    ax.xaxis.set_major_locator(ticker.MultipleLocator(1))\n",
    "    ax.yaxis.set_major_locator(ticker.MultipleLocator(1))\n",
    "\n",
    "\n",
    "def evaluateAndShowAttention(input_sentence, title, encoder, decoder):\n",
    "    output_words, attentions = evaluate(encoder, decoder, input_sentence, input_lang, second_lang)\n",
    "    print('input =', input_sentence)\n",
    "    print('output =', ' '.join(output_words))\n",
    "    showAttention(input_sentence, output_words, attentions[0, :len(output_words), :])\n",
    "    plt.title(title)\n",
    "    plt.savefig(f'{title}.png')\n",
    "\n",
    "\n",
    "\n",
    "for enc_dec, key in zip(encoders_decoders_pairs, keys):\n",
    "    enc, dec = enc_dec\n",
    "    evaluateAndShowAttention('я люблю кошек', key, enc, dec)\n"
   ]
  },
  {
   "cell_type": "markdown",
   "metadata": {},
   "source": [
    "Загрузим численные результаты. "
   ]
  },
  {
   "cell_type": "code",
   "execution_count": 22,
   "metadata": {},
   "outputs": [
    {
     "data": {
      "text/html": [
       "<div>\n",
       "<style scoped>\n",
       "    .dataframe tbody tr th:only-of-type {\n",
       "        vertical-align: middle;\n",
       "    }\n",
       "\n",
       "    .dataframe tbody tr th {\n",
       "        vertical-align: top;\n",
       "    }\n",
       "\n",
       "    .dataframe thead th {\n",
       "        text-align: right;\n",
       "    }\n",
       "</style>\n",
       "<table border=\"1\" class=\"dataframe\">\n",
       "  <thead>\n",
       "    <tr style=\"text-align: right;\">\n",
       "      <th></th>\n",
       "      <th>mean loss</th>\n",
       "      <th>median loss</th>\n",
       "      <th>training time minutes</th>\n",
       "    </tr>\n",
       "  </thead>\n",
       "  <tbody>\n",
       "    <tr>\n",
       "      <th>without</th>\n",
       "      <td>1.056864</td>\n",
       "      <td>0.827356</td>\n",
       "      <td>32.760236</td>\n",
       "    </tr>\n",
       "    <tr>\n",
       "      <th>dot</th>\n",
       "      <td>1.061731</td>\n",
       "      <td>0.835960</td>\n",
       "      <td>36.256661</td>\n",
       "    </tr>\n",
       "    <tr>\n",
       "      <th>general</th>\n",
       "      <td>1.032140</td>\n",
       "      <td>0.806987</td>\n",
       "      <td>37.387139</td>\n",
       "    </tr>\n",
       "    <tr>\n",
       "      <th>concat</th>\n",
       "      <td>0.856844</td>\n",
       "      <td>0.599806</td>\n",
       "      <td>40.020917</td>\n",
       "    </tr>\n",
       "    <tr>\n",
       "      <th>bahdanau</th>\n",
       "      <td>0.374914</td>\n",
       "      <td>0.339739</td>\n",
       "      <td>39.651543</td>\n",
       "    </tr>\n",
       "  </tbody>\n",
       "</table>\n",
       "</div>"
      ],
      "text/plain": [
       "          mean loss  median loss  training time minutes\n",
       "without    1.056864     0.827356              32.760236\n",
       "dot        1.061731     0.835960              36.256661\n",
       "general    1.032140     0.806987              37.387139\n",
       "concat     0.856844     0.599806              40.020917\n",
       "bahdanau   0.374914     0.339739              39.651543"
      ]
     },
     "execution_count": 22,
     "metadata": {},
     "output_type": "execute_result"
    }
   ],
   "source": [
    "train_results_data = pd.read_csv('results_data.csv', \n",
    "                                 index_col=0)\n",
    "\n",
    "train_results_data\n"
   ]
  },
  {
   "cell_type": "code",
   "execution_count": 23,
   "metadata": {},
   "outputs": [
    {
     "data": {
      "text/plain": [
       "<matplotlib.image.AxesImage at 0x13253b6a0>"
      ]
     },
     "execution_count": 23,
     "metadata": {},
     "output_type": "execute_result"
    },
    {
     "data": {
      "image/png": "[encoded data removed]",
      "text/plain": [
       "<Figure size 640x480 with 1 Axes>"
      ]
     },
     "metadata": {},
     "output_type": "display_data"
    }
   ],
   "source": [
    "img = Image.open('results/Losses.png')\n",
    "plt.imshow(img)"
   ]
  },
  {
   "cell_type": "markdown",
   "metadata": {},
   "source": [
    "Лучшим подходом к вниманию действительно оказался Bahdanau attention. Время обучения увеличилось примерно на 20% и функция потерь оказалась ниже более чем в два раза. "
   ]
  },
  {
   "cell_type": "markdown",
   "metadata": {},
   "source": [
    "## Внимание в explainable AI.\n",
    "С момента популяризации, механизм attention также стал распространяться в области XAI. Действительно, ведь согласно интуитивному определению — веса внимания — прямое отражение того, на что \"смотрит\" модель. И в эксперименте это абсолютно видно. \n",
    "\n",
    "Но внимание **не позволяет*** сделать \"прозрачную\" модель. \n",
    " В настоящее время показано, что:\n",
    "\n",
    "\n",
    "- возможно полностью изменить веса внимания и добиться того же прогноза (также веса внимания допускают и другие состязательные вмешательства);\n",
    "\n",
    "- веса внимания не обязательно коррелируют (часто — вообще не коррелируют) с другими методами объяснения;\n",
    "\n",
    "Кроме того, опровергая attention в качестве объяснения, исследователи отмечают, что внимание строится не на основе самих слов, а на основе их эмбеддингов, что тоже умаляет точность построенных карт. Данный факт можно оспорить, сформулировав гипотезу о том, что модель имитирует пространство слов корпуса в векторном пространстве. Но насколько эта гипотеза является правдой, в силу больших размерностей, открытый вопрос. \n"
   ]
  },
  {
   "cell_type": "markdown",
   "metadata": {},
   "source": [
    "## Общий вывод о внимании\n",
    "Attention — сильный инструмент, улучшающий качество модели. На свойство объяснимости attention также влияет, однако является не более и не менее чем ещё одной попыткой глубже понять скрытые зависимости, изучаемые моделью.\n",
    "\n",
    "\n",
    "Спасибо за ваше внимание, друзья!\n",
    "Всегда рада видеть вашу обратную связь в [Data Blog'е](https://t.me/jdata_blog), где я пишу про объяснимость моделей и свой опыт в области Data Science. \n",
    "\n",
    "*До новых встреч и доброго вам времени,*\n",
    "\n",
    "*Ваш Дата-автор!*"
   ]
  },
  {
   "cell_type": "markdown",
   "metadata": {},
   "source": [
    "Материалы:\n",
    "- https://github.com/wenhaofang/Seq2SeqAtn/blob/main/modules/module1.py \n",
    "- https://wikidocs.net/166653 \n",
    "- [Effective Approaches to Attention-based Neural Machine Translation](https://arxiv.org/pdf/1508.04025)"
   ]
  },
  {
   "cell_type": "markdown",
   "metadata": {},
   "source": []
  }
 ],
 "metadata": {
  "kernelspec": {
   "display_name": "rnn_w_attn_venv",
   "language": "python",
   "name": "python3"
  },
  "language_info": {
   "codemirror_mode": {
    "name": "ipython",
    "version": 3
   },
   "file_extension": ".py",
   "mimetype": "text/x-python",
   "name": "python",
   "nbconvert_exporter": "python",
   "pygments_lexer": "ipython3",
   "version": "3.9.6"
  }
 },
 "nbformat": 4,
 "nbformat_minor": 2
}
